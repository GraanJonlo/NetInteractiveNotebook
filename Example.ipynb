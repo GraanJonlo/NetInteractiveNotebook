{
 "cells": [
  {
   "cell_type": "markdown",
   "metadata": {},
   "source": [
    "# .NET Interactive Notebook example\r\n",
    "\r\n",
    "Jupyter Notebook support in VS Code? Yes please!\r\n",
    "\r\n",
    "## Markdowm support\r\n",
    "\r\n",
    "* Bullet 1\r\n",
    "* Bullet 2\r\n",
    "\r\n",
    "Table:\r\n",
    "\r\n",
    "| A | B | C |\r\n",
    "|---|---|---|\r\n",
    "| 0 | 1 | 2 |"
   ]
  },
  {
   "cell_type": "markdown",
   "metadata": {},
   "source": [
    "## Code support"
   ]
  },
  {
   "cell_type": "code",
   "execution_count": 1,
   "metadata": {},
   "source": [
    "#!fsharp\r\n",
    "[1..5]"
   ],
   "outputs": []
  },
  {
   "cell_type": "markdown",
   "metadata": {},
   "source": [
    "## More complicated code support"
   ]
  },
  {
   "cell_type": "code",
   "execution_count": 1,
   "metadata": {},
   "source": [
    "#!fsharp\r\n",
    "let random = System.Random()\r\n",
    "\r\n",
    "let data = [\r\n",
    "    for i in 1..5 do\r\n",
    "        {|\r\n",
    "            Name = sprintf \"Item %i\" i\r\n",
    "            ``Some random number`` = random.Next()\r\n",
    "            Time = System.DateTime.Now\r\n",
    "        |}\r\n",
    "]\r\n",
    "\r\n",
    "data"
   ],
   "outputs": []
  },
  {
   "cell_type": "markdown",
   "metadata": {},
   "source": [
    "## Load and use Nuget packages"
   ]
  },
  {
   "cell_type": "code",
   "execution_count": 1,
   "metadata": {},
   "source": [
    "#!fsharp\r\n",
    "#r \"nuget: XPlot.Plotly\"\r\n",
    "\r\n",
    "open XPlot.Plotly\r\n",
    "\r\n",
    "[ \"Pizza remaining\", 3; \"Pizza eaten\", 5 ]\r\n",
    "|> Chart.Pie"
   ],
   "outputs": []
  },
  {
   "cell_type": "markdown",
   "metadata": {},
   "source": [
    "## Use data from previous cells\r\n",
    "\r\n",
    "Doesn't seem to be working at the moment.\r\n",
    "\r\n",
    "Data from previous cells should be available in further cells."
   ]
  },
  {
   "cell_type": "code",
   "execution_count": 1,
   "metadata": {},
   "source": [
    "#!fsharp\r\n",
    "let random = System.Random()\r\n",
    "\r\n",
    "let data = [\r\n",
    "    for i in 1..5 do\r\n",
    "        {|\r\n",
    "            Name = sprintf \"Item %i\" i\r\n",
    "            ``Some random number`` = random.Next()\r\n",
    "            Time = System.DateTime.Now\r\n",
    "        |}\r\n",
    "]\r\n",
    "\r\n",
    "#r \"nuget: XPlot.Plotly\"\r\n",
    "\r\n",
    "open XPlot.Plotly\r\n",
    "\r\n",
    "// The above should not be necessary\r\n",
    "\r\n",
    "data\r\n",
    "|> List.map (fun x -> x.Name, x.``Some random number``)\r\n",
    "|> Chart.Bar\r\n",
    "|> Chart.WithTitle \"An example\"\r\n",
    "|> Chart.WithLabel \"Important numbers\"\r\n",
    "|> Chart.WithLegend true"
   ],
   "outputs": []
  },
  {
   "cell_type": "markdown",
   "metadata": {},
   "source": [
    "## Load external code"
   ]
  },
  {
   "cell_type": "code",
   "execution_count": 1,
   "metadata": {},
   "source": [
    "#!fsharp\r\n",
    "#load \"Example.fs\"\r\n",
    "\r\n",
    "Say.hello \"World\""
   ],
   "outputs": [
    {
     "output_type": "execute_result",
     "data": {
      "text/plain": "Hello, World!"
     },
     "execution_count": 1,
     "metadata": {}
    }
   ]
  }
 ],
 "metadata": {
  "kernelspec": {
   "display_name": ".NET (C#)",
   "language": "C#",
   "name": ".net-csharp"
  },
  "language_info": {
   "file_extension": ".cs",
   "mimetype": "text/x-csharp",
   "name": "C#",
   "pygments_lexer": "csharp",
   "version": "8.0"
  }
 },
 "nbformat": 4,
 "nbformat_minor": 4
}