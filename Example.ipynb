{
 "cells": [
  {
   "cell_type": "markdown",
   "metadata": {},
   "source": [
    "# .NET Interactive Notebook example\n",
    "\n",
    "Jupyter Notebook support in VS Code? Yes please!\n",
    "\n",
    "## Markdowm support\n",
    "\n",
    "* Bullet 1\n",
    "* Bullet 2\n",
    "\n",
    "Table:\n",
    "\n",
    "| A | B | C |\n",
    "|---|---|---|\n",
    "| 0 | 1 | 2 |"
   ]
  },
  {
   "cell_type": "markdown",
   "metadata": {},
   "source": [
    "## Code support"
   ]
  },
  {
   "cell_type": "code",
   "execution_count": 1,
   "metadata": {},
   "source": [
    "#!fsharp\n",
    "[1..5]"
   ],
   "outputs": []
  },
  {
   "cell_type": "markdown",
   "metadata": {},
   "source": [
    "## More complicated code support"
   ]
  },
  {
   "cell_type": "code",
   "execution_count": 1,
   "metadata": {},
   "source": [
    "#!fsharp\n",
    "let random = System.Random()\n",
    "\n",
    "let data = [\n",
    "    for i in 1..5 do\n",
    "        {|\n",
    "            Name = sprintf \"Item %i\" i\n",
    "            ``Some random number`` = random.Next()\n",
    "            Time = System.DateTime.Now\n",
    "        |}\n",
    "]\n",
    "\n",
    "data"
   ],
   "outputs": [
    {
     "output_type": "execute_result",
     "data": {
      "text/html": "<table><thead><tr><th><i>index</i></th><th>Name</th><th>Some random number</th><th>Time</th></tr></thead><tbody><tr><td>0</td><td><div class=\"dni-plaintext\">Item 1</div></td><td><div class=\"dni-plaintext\">661581386</div></td><td><span>2020-11-20 14:00:55Z</span></td></tr><tr><td>1</td><td><div class=\"dni-plaintext\">Item 2</div></td><td><div class=\"dni-plaintext\">1333408925</div></td><td><span>2020-11-20 14:00:55Z</span></td></tr><tr><td>2</td><td><div class=\"dni-plaintext\">Item 3</div></td><td><div class=\"dni-plaintext\">1327358381</div></td><td><span>2020-11-20 14:00:55Z</span></td></tr><tr><td>3</td><td><div class=\"dni-plaintext\">Item 4</div></td><td><div class=\"dni-plaintext\">1207951465</div></td><td><span>2020-11-20 14:00:55Z</span></td></tr><tr><td>4</td><td><div class=\"dni-plaintext\">Item 5</div></td><td><div class=\"dni-plaintext\">1158625678</div></td><td><span>2020-11-20 14:00:55Z</span></td></tr></tbody></table>"
     },
     "execution_count": 1,
     "metadata": {}
    }
   ]
  },
  {
   "cell_type": "markdown",
   "metadata": {},
   "source": [
    "## Load and use Nuget packages"
   ]
  },
  {
   "cell_type": "code",
   "execution_count": 1,
   "metadata": {},
   "source": [
    "#!fsharp\n",
    "#r \"nuget: XPlot.Plotly\"\n",
    "\n",
    "open XPlot.Plotly\n",
    "\n",
    "[ \"Pizza remaining\", 3; \"Pizza eaten\", 5 ]\n",
    "|> Chart.Pie"
   ],
   "outputs": [
    {
     "output_type": "execute_result",
     "data": {
      "text/plain": "Installed package XPlot.Plotly version 3.0.1"
     },
     "execution_count": 1,
     "metadata": {}
    },
    {
     "output_type": "execute_result",
     "data": {
      "text/html": "<div id=\"b919746b-0899-43e9-9045-0b86f39d22a2\" style=\"width: 900px; height: 500px;\"></div>\r\n<script type=\"text/javascript\">\r\n\r\nvar renderPlotly = function() {\r\n    var xplotRequire = require.config({context:'xplot-3.0.1',paths:{plotly:'https://cdn.plot.ly/plotly-1.49.2.min'}}) || require;\r\n    xplotRequire(['plotly'], function(Plotly) {\r\n\n            var data = [{\"type\":\"pie\",\"labels\":[\"Pizza remaining\",\"Pizza eaten\"],\"values\":[3,5]}];\n            var layout = \"\";\n            Plotly.newPlot('b919746b-0899-43e9-9045-0b86f39d22a2', data, layout);\n        \r\n});\r\n};\r\n// ensure `require` is available globally\r\nif ((typeof(require) !==  typeof(Function)) || (typeof(require.config) !== typeof(Function))) {\r\n    let require_script = document.createElement('script');\r\n    require_script.setAttribute('src', 'https://cdnjs.cloudflare.com/ajax/libs/require.js/2.3.6/require.min.js');\r\n    require_script.setAttribute('type', 'text/javascript');\r\n    \r\n    \r\n    require_script.onload = function() {\r\n        renderPlotly();\r\n    };\r\n\r\n    document.getElementsByTagName('head')[0].appendChild(require_script);\r\n}\r\nelse {\r\n    renderPlotly();\r\n}\r\n\r\n</script>\r\n"
     },
     "execution_count": 1,
     "metadata": {}
    }
   ]
  },
  {
   "cell_type": "markdown",
   "metadata": {},
   "source": [
    "## Use data from previous cells\n",
    "\n",
    "Doesn't seem to be working at the moment.\n",
    "\n",
    "Data from previous cells should be available in further cells."
   ]
  },
  {
   "cell_type": "code",
   "execution_count": 1,
   "metadata": {},
   "source": [
    "#!fsharp\n",
    "data\n",
    "|> List.map (fun x -> x.Name, x.``Some random number``)\n",
    "|> Chart.Bar\n",
    "|> Chart.WithTitle \"An example\"\n",
    "|> Chart.WithLabel \"Important numbers\"\n",
    "|> Chart.WithLegend true"
   ],
   "outputs": [
    {
     "output_type": "execute_result",
     "data": {
      "text/html": "<div id=\"0c35a936-3819-4396-9c02-3fd15623a55a\" style=\"width: 900px; height: 500px;\"></div>\r\n<script type=\"text/javascript\">\r\n\r\nvar renderPlotly = function() {\r\n    var xplotRequire = require.config({context:'xplot-3.0.1',paths:{plotly:'https://cdn.plot.ly/plotly-1.49.2.min'}}) || require;\r\n    xplotRequire(['plotly'], function(Plotly) {\r\n\n            var data = [{\"type\":\"bar\",\"x\":[661581386,1333408925,1327358381,1207951465,1158625678],\"y\":[\"Item 1\",\"Item 2\",\"Item 3\",\"Item 4\",\"Item 5\"],\"orientation\":\"h\",\"name\":\"Important numbers\"}];\n            var layout = {\"title\":\"An example\",\"showlegend\":true};\n            Plotly.newPlot('0c35a936-3819-4396-9c02-3fd15623a55a', data, layout);\n        \r\n});\r\n};\r\n// ensure `require` is available globally\r\nif ((typeof(require) !==  typeof(Function)) || (typeof(require.config) !== typeof(Function))) {\r\n    let require_script = document.createElement('script');\r\n    require_script.setAttribute('src', 'https://cdnjs.cloudflare.com/ajax/libs/require.js/2.3.6/require.min.js');\r\n    require_script.setAttribute('type', 'text/javascript');\r\n    \r\n    \r\n    require_script.onload = function() {\r\n        renderPlotly();\r\n    };\r\n\r\n    document.getElementsByTagName('head')[0].appendChild(require_script);\r\n}\r\nelse {\r\n    renderPlotly();\r\n}\r\n\r\n</script>\r\n"
     },
     "execution_count": 1,
     "metadata": {}
    }
   ]
  },
  {
   "cell_type": "markdown",
   "metadata": {},
   "source": [
    "## Load external code"
   ]
  },
  {
   "cell_type": "code",
   "execution_count": 1,
   "metadata": {},
   "source": [
    "#!fsharp\n",
    "#load \"Example.fs\"\n",
    "\n",
    "Say.hello \"World\""
   ],
   "outputs": [
    {
     "output_type": "execute_result",
     "data": {
      "text/plain": "Hello, World!"
     },
     "execution_count": 1,
     "metadata": {}
    }
   ]
  }
 ],
 "metadata": {
  "kernelspec": {
   "display_name": ".NET (C#)",
   "language": "C#",
   "name": ".net-csharp"
  },
  "language_info": {
   "file_extension": ".cs",
   "mimetype": "text/x-csharp",
   "name": "C#",
   "pygments_lexer": "csharp",
   "version": "8.0"
  }
 },
 "nbformat": 4,
 "nbformat_minor": 4
}